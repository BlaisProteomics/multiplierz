{
 "cells": [
  {
   "cell_type": "markdown",
   "metadata": {},
   "source": [
    "## Peptide Identification Workflow and SILAC Analysis Demonstration\n",
    "\n",
    "Here we demonstrate a Multiplierz SILAC workflow on a complex, multi-fraction\n",
    "mixture by replicating the data analysis from\n",
    "\n",
    "[<i>Wu X, Zahari MS, Renuse S, Nirujogi RS, Kim MS, Manda SS, Stearns\n",
    "V, Gabrielson E, Sukumar S, Pandey A. Phosphoproteomic Analysis Identifies\n",
    "Focal Adhesion Kinase 2 (FAK2) as a Potential Therapeutic Target for Tamoxifen\n",
    "Resistance in Breast Cancer. Mol Cell Proteomics. 2015 Nov;14(11):2887-900</i>](https://www.ncbi.nlm.nih.gov/pubmed/26330541)\n",
    "\n",
    "Here SILAC labelling was used to show upregulation of a Temoxifen-relevant\n",
    "pathway mediated by a set of phosphorylation kinases.  The Wu et al performed\n",
    "the original analysis with Proteome Discoverer, the proteomic analysis software\n",
    "package distributed by Thermo Scientific for use with their machines; in\n",
    "addition to the analysis, we show that Multiplierz obtains results in line\n",
    "with the original data.\n",
    "\n",
    "***\n",
    "We start by importing the Multiplierz libraries we'll need, along with some other modules from the Python standard libraries.\n"
   ]
  },
  {
   "cell_type": "code",
   "execution_count": 4,
   "metadata": {
    "collapsed": true
   },
   "outputs": [],
   "source": [
    "import multiplierz\n",
    "\n",
    "# Multiplierz interface to Mascot search submission/retrieval.\n",
    "from multiplierz.mzSearch import MascotSearch\n",
    "\n",
    "# Multiplierz utilities for post-search processing of results.\n",
    "from multiplierz.post_process import combine_accessions, calculate_FDR\n",
    "# The function for performing 2-plex SILAC analysis.\n",
    "from multiplierz.mzTools.silacAnalysis import SILAC2Plex\n",
    "# If we were analyzing a 3-plex sample, we would instead use \n",
    "#from multiplierz.mzTools.silacAnalysis import SILAC3Plex\n",
    "\n",
    "# The extract() function pulls MS2 data out of an instrument data file\n",
    "# into an MGF file.\n",
    "from multiplierz.mgf import extract\n",
    "\n",
    "# For the comparison step, we'll need to read PSM results; this can\n",
    "# be done through mzReport.\n",
    "from multiplierz.mzReport import reader\n",
    "\n",
    "import os\n",
    "from collections import defaultdict\n",
    "from numpy import log\n",
    "\n",
    "# Required for internal multiprocessing performed in Multiplierz to be\n",
    "# compatible with iPython.\n",
    "import sys\n",
    "sys.modules['__main__'].__file__ = 'ipython'\n",
    "\n",
    "# Suppressing progress reporting for this workbook.\n",
    "multiplierz.verbose_mode = False"
   ]
  },
  {
   "cell_type": "markdown",
   "metadata": {},
   "source": [
    "We will also need the paths to the raw MS data the script will be analyzing, and the Mascot parameter file that we use as the basis of the database search session."
   ]
  },
  {
   "cell_type": "code",
   "execution_count": 21,
   "metadata": {
    "collapsed": true
   },
   "outputs": [],
   "source": [
    "data_files = ['RO-CS-140925_PandeyA_ZM-pST_Fraction-1.raw',\n",
    "              'RO-CS-140925_PandeyA_ZM-pST_Fraction-2.raw',\n",
    "              'RO-CS-140925_PandeyA_ZM-pST_Fraction-3.raw',\n",
    "              'RO-CS-140925_PandeyA_ZM-pST_Fraction-4.raw',\n",
    "              'RO-CS-140925_PandeyA_ZM-pST_Fraction-5.raw',\n",
    "              'RO-CS-140925_PandeyA_ZM-pST_Fraction-6.raw',\n",
    "              'RO-CS-140925_PandeyA_ZM-pST_Fraction-7.raw',\n",
    "              'RO-CS-140925_PandeyA_ZM-pST_Fraction-8.raw',\n",
    "              'RO-CS-140925_PandeyA_ZM-pST_Fraction-9.raw',\n",
    "              'RO-CS-140925_PandeyA_ZM-pST_Fraction-10.raw',\n",
    "              'RO-CS-140925_PandeyA_ZM-pST_Fraction-11.raw',\n",
    "              'RO-CS-140925_PandeyA_ZM-pST_Fraction-12.raw']\n",
    "\n",
    "par_file = 'phospho_SILAC.par'"
   ]
  },
  {
   "cell_type": "markdown",
   "metadata": {
    "collapsed": true
   },
   "source": [
    "***\n",
    "\n",
    "###Peptide Identification Workflow\n",
    "\n",
    "The first step is to extract MS2 spectra from the .RAW files into the MGF format understood by Mascot; the Multiplierz extract() function automates this process."
   ]
  },
  {
   "cell_type": "code",
   "execution_count": 23,
   "metadata": {
    "collapsed": false
   },
   "outputs": [],
   "source": [
    "mgf_files = []\n",
    "for data_file in data_files:\n",
    "    mgf_file = extract(data_file,\n",
    "                       centroid = True,\n",
    "                       deisotope_and_reduce_charge = True,\n",
    "                       precursor_tolerance = 0.01)\n",
    "    mgf_files.append(mgf_file)"
   ]
  },
  {
   "cell_type": "markdown",
   "metadata": {},
   "source": [
    "We use mzSearch to search each MGF file using our phospho_SILAC.par parameter set; however, we can customize the search process, in case the settings we have in the parameter file don't suit this particular context exactly.  Here we define handle_search() to run the customized search process."
   ]
  },
  {
   "cell_type": "code",
   "execution_count": 24,
   "metadata": {
    "collapsed": false
   },
   "outputs": [],
   "source": [
    "def handle_search(mgf_file, par_file):\n",
    "    searcher = MascotSearch(par_file)\n",
    "    \n",
    "    # Suppose we obtained this data from a different instrument\n",
    "    # than we're used to; we can use the script itself to set\n",
    "    # instrument-specific settings (such as mass accuracy, here)\n",
    "    # for this particular workflow.\n",
    "    searcher['TOL'] = 10\n",
    "    searcher['TOLU'] = 'ppm'\n",
    "    searcher['ITOL'] = 0.05\n",
    "    searcher['ITOLU'] = 'Da'\n",
    "\n",
    "    # We can also add a variable modification list appropriate for the sample.\n",
    "    # The list should be the names listed in the Mascot mod list, with amino acids\n",
    "    # they're expected to bind to, joined by commas.\n",
    "    mod_list = ['Oxidation (M)',\n",
    "                'Phospho (ST)',\n",
    "                'Phospho (Y)']\n",
    "    searcher['IT_MODS'] = ','.join(mod_list)\n",
    "    # (Changing the fixed mod list can be done likewise, by altering the 'MODS' field.)\n",
    "\n",
    "    # The QUANTITATION field indicates the kind of quantitation being\n",
    "    # performed; the string values for each mode can be found on the Mascot\n",
    "    # search submission form, or by using the mzDesktop Mascot interface\n",
    "    # utility to create a custom .par file.\n",
    "    searcher['QUANTITATION'] = 'SILAC K+8 R+10 [MD]'\n",
    "    \n",
    "    result_file = searcher.run_search(mgf_file,\n",
    "                                      user = 'pipeline',\n",
    "                                      password = 'pipeline')\n",
    "    # .run_search() executes the search on our Mascot server.\n",
    "    # The return value is a full file path to the result\n",
    "    # file downloaded.\n",
    "    \n",
    "    # Before we do SILAC quantitation, we'll want to consolidate\n",
    "    # protein IDs into one PSM per peptide (combine_accessions)\n",
    "    # and ensure that we're examining confident, forward-sequence\n",
    "    # peptide matches through the forward/reverse decoy\n",
    "    # search method (calculate_FDR).\n",
    "    result_file = combine_accessions(result_file, result_file)\n",
    "    result_file = calculate_FDR(result_file, outputfile = result_file)\n",
    "    # In general, there are two ways to know the path of a file written\n",
    "    # by a multiplierz function; setting it in the output file argument\n",
    "    # to the function, or by capturing the function's return value.  For\n",
    "    # the sake of demonstration, here we do both, redundantly.\n",
    "    \n",
    "    return result_file\n",
    "\n",
    "psm_reports = []\n",
    "for mgf_file in mgf_files:\n",
    "    psm_report = handle_search(mgf_file, par_file)\n",
    "    psm_reports.append(psm_report)"
   ]
  },
  {
   "cell_type": "markdown",
   "metadata": {},
   "source": [
    "If all we want is to run the peptide identification search, *we're done*!  `psm_reports` contains a list of file paths containing the PSMs found in each data file.\n",
    "***\n",
    "\n",
    "###SILAC Analysis\n",
    "\n",
    "Now that we have PSM reports, we can run the SILAC analysis function to obtain ratio values for the peptides we've obtained.  This is a single-step process!  The SILAC function can accept a set of files from a multi-fraction experiment, and outputs a combined output report accross all files (which retains information about which peptide came from what fraction, additionally.)"
   ]
  },
  {
   "cell_type": "code",
   "execution_count": 25,
   "metadata": {
    "collapsed": false
   },
   "outputs": [],
   "source": [
    "silac_annotated_file = SILAC2Plex(datafiles = data_files, \n",
    "                                  resultfiles = psm_reports,\n",
    "                                  heavyTags = {'K':'Label:13C(6)15N(2)', \n",
    "                                               'R':'Label:13C(6)15N(4)'})"
   ]
  },
  {
   "cell_type": "markdown",
   "metadata": {},
   "source": [
    "`silac_annotated_file` now contains the path to the combined report file, in Excel format.\n",
    "***\n",
    "\n",
    "###Result Comparison\n",
    "\n",
    "As a demonstration of the effectiveness of the Multiplierz analysis, we can compare it to the result obtained by the data's original authors via Proteome Discoverer.  We extracted a PSM report from the .MSF file available on the [paper's PRIDE repository](https://www.ebi.ac.uk/pride/archive/projects/PXD001812) into Excel format, which we can then read using mzReport."
   ]
  },
  {
   "cell_type": "code",
   "execution_count": 26,
   "metadata": {
    "collapsed": false
   },
   "outputs": [],
   "source": [
    "wu_et_al_pd_report = r'RO-CS-140925_PandeyA_ZM-pST_Fraction-9.rank_one.xlsx'\n",
    "\n",
    "proteome_discoverer_psms = list(reader(wu_et_al_pd_report))\n",
    "multiplierz_psms = list(reader(silac_annotated_file))"
   ]
  },
  {
   "cell_type": "markdown",
   "metadata": {},
   "source": [
    "We will be comparing the quantitation values found on a peptide-by-peptide basis; therefore, we need to define a way to indicate a particular peptide which is identical across formats.  Helpfully, Proteome Discoverer and Mascot have very similar output values for peptide sequence and variable modifications, but a small amount of conversion needs to be done (e.g., convert modification names from the Proteome Discoverer format (\"S3(Phospho)\") to Mascot format (\"S3: Phospho\").) "
   ]
  },
  {
   "cell_type": "code",
   "execution_count": 27,
   "metadata": {
    "collapsed": true
   },
   "outputs": [],
   "source": [
    "def byPeptideMascot(psm):\n",
    "    mods = frozenset([x.strip() for x in psm['Variable Modifications'].split(';') if x])\n",
    "    \n",
    "    return (psm['Peptide Sequence'],\n",
    "            mods,\n",
    "            psm['Charge'])\n",
    "\n",
    "def byPeptidePD(psm):\n",
    "    mods = [x.strip() for x in psm['Modifications'].split(';') if x]\n",
    "    mods = [x for x in mods if 'Carbamidomethyl' not in x] # Fixed mods not reported by Mascot\n",
    "    converted_mods = set()\n",
    "    for mod in mods:\n",
    "        i = mod.find('(')\n",
    "        converted_mods.add('%s: %s' % (mod[:i], mod[i+1:-1]))\n",
    "    \n",
    "    return (psm['Annotated Sequence'].upper(),\n",
    "            frozenset(converted_mods),\n",
    "            psm['Charge'])    "
   ]
  },
  {
   "cell_type": "markdown",
   "metadata": {},
   "source": [
    "Now we can use these peptide values to gather PSMs by peptide, and compile a list of peptides in common between files."
   ]
  },
  {
   "cell_type": "code",
   "execution_count": 28,
   "metadata": {
    "collapsed": false
   },
   "outputs": [],
   "source": [
    "m_by_pep = defaultdict(list)\n",
    "for psm in multiplierz_psms:\n",
    "    m_by_pep[byPeptideMascot(psm)].append(psm)\n",
    "pd_by_pep = defaultdict(list)\n",
    "for psm in proteome_discoverer_psms:\n",
    "    pd_by_pep[byPeptidePD(psm)].append(psm)\n",
    "\n",
    "common_peptides = set(m_by_pep.keys()) & set(pd_by_pep.keys())"
   ]
  },
  {
   "cell_type": "markdown",
   "metadata": {},
   "source": [
    "It is also worth making sure, at this point, that the results from the database search step were comparable between our analysis and the original:"
   ]
  },
  {
   "cell_type": "code",
   "execution_count": 29,
   "metadata": {
    "collapsed": false
   },
   "outputs": [
    {
     "name": "stdout",
     "output_type": "stream",
     "text": [
      "Peptides found by Multiplierz workflow: 19782\n",
      "Peptides found by Proteome Discoverer workflow; 20563\n",
      "-\n",
      "Peptides found by Multiplierz but missed by Proteome Discoverer: 2271\n",
      "Peptides found by Proteome Discoverer but missed by Multiplierz: 3052\n",
      "-\n",
      "Total peptides found in common: 17511\n"
     ]
    }
   ],
   "source": [
    "print \"Peptides found by Multiplierz workflow: %d\" % len(m_by_pep)\n",
    "print \"Peptides found by Proteome Discoverer workflow; %d\" % len(pd_by_pep)\n",
    "print '-'\n",
    "print \"Peptides found by Multiplierz but missed by Proteome Discoverer: %d\" % len(set(m_by_pep) - set(pd_by_pep))\n",
    "print \"Peptides found by Proteome Discoverer but missed by Multiplierz: %d\" % len(set(pd_by_pep) - set(m_by_pep))\n",
    "print '-'\n",
    "print \"Total peptides found in common: %d\" % len(common_peptides)"
   ]
  },
  {
   "cell_type": "markdown",
   "metadata": {},
   "source": [
    "Now we can collect the quantitation values for each peptide in the common list.  Not all peptides in this list will have been successfully quantified; we count only peptides that have been quantified by both workflows."
   ]
  },
  {
   "cell_type": "code",
   "execution_count": 30,
   "metadata": {
    "collapsed": false
   },
   "outputs": [
    {
     "name": "stdout",
     "output_type": "stream",
     "text": [
      "Lost due to file mismatch: 24\tLost due to no PD quantification: 1962\tLost due to no Multiplierz quantification: 1722\n",
      "Total mutually quantified peptides: 13803\n"
     ]
    }
   ],
   "source": [
    "quant_values = []\n",
    "loss_from_file_mismatch = 0\n",
    "loss_from_no_PD_quant = 0\n",
    "loss_from_no_Multiplierz_quant = 0\n",
    "for pep in common_peptides:\n",
    "    m_psms = m_by_pep[pep]\n",
    "    pd_psms = pd_by_pep[pep]\n",
    "    \n",
    "    # Since many peptides will appear in multiple fractions, its important to\n",
    "    # take compare the quant value from the fraction in which the peptide was\n",
    "    # most apparent. For the sake of simplicity, we use a\n",
    "    # number-of-acquisitions based method to determine this.\n",
    "    m_source_files = [os.path.basename(x['Source'])[:-9] for x in m_psms]\n",
    "    pd_source_files = [x['Spectrum File'] for x in pd_psms]\n",
    "    possible_files = set(m_source_files) & set(pd_source_files)\n",
    "    if not possible_files:\n",
    "        loss_from_file_mismatch += 1\n",
    "        continue\n",
    "    best_file = max(possible_files, \n",
    "                    key = lambda x: m_source_files.count(x) + pd_source_files.count(x))\n",
    "    m_psm = [x for x in m_psms if best_file in x['Source']][0]\n",
    "    pd_psm = [x for x in pd_psms if best_file in x['Spectrum File']][0]\n",
    "    \n",
    "    try:\n",
    "        pd_quant = float(pd_psm['Heavy'])/float(pd_psm['Light'])\n",
    "    except ValueError:\n",
    "        loss_from_no_PD_quant += 1\n",
    "        continue\n",
    "    m_quant = m_psm['Overlap Ratio (H/L)']\n",
    "    if m_quant == '-':\n",
    "        loss_from_no_Multiplierz_quant += 1\n",
    "        continue\n",
    "    m_quant = float(m_quant)\n",
    "    quant_values.append((log(pd_quant), log(m_quant), pep))\n",
    "\n",
    "print (\"Lost due to file mismatch: %d\\tLost due to no PD quantification: %d\"\n",
    "       \"\\tLost due to no Multiplierz quantification: %d\" % (loss_from_file_mismatch, loss_from_no_PD_quant,\n",
    "                                                           loss_from_no_Multiplierz_quant))\n",
    "print \"Total mutually quantified peptides: %d\" % len(quant_values)"
   ]
  },
  {
   "cell_type": "markdown",
   "metadata": {},
   "source": [
    "Now we can use Matplotlib to generate a plot comparing quantitation values for each peptide."
   ]
  },
  {
   "cell_type": "code",
   "execution_count": 31,
   "metadata": {
    "collapsed": false
   },
   "outputs": [
    {
     "data": {
      "image/png": "[encoded data removed]",
      "text/plain": [
       "<matplotlib.figure.Figure at 0x114540780>"
      ]
     },
     "metadata": {},
     "output_type": "display_data"
    }
   ],
   "source": [
    "%matplotlib inline\n",
    "\n",
    "import matplotlib.pyplot as plt\n",
    "pd_quants, m_quants, _ = zip(*quant_values)\n",
    "plt.figure(figsize = (10,10))\n",
    "plt.scatter(pd_quants, m_quants)\n",
    "plt.plot([-4, 4], [-4, 4], color = 'r', linestyle = '--') # 1-to-1 line.\n",
    "plt.ylabel('Multiplierz Workflow')\n",
    "plt.xlabel('Proteome Discoverer Workflow')\n",
    "plt.show()"
   ]
  },
  {
   "cell_type": "markdown",
   "metadata": {
    "collapsed": true
   },
   "source": [
    "We can thereby see that, aside from a handful of outliers, the vast majority of the more than 13,000 peptides shown report essentially identical quantitation values in the Multiplierz results and the Proteome Discoverer results."
   ]
  }
 ],
 "metadata": {
  "kernelspec": {
   "display_name": "Python 2",
   "language": "python",
   "name": "python2"
  },
  "language_info": {
   "codemirror_mode": {
    "name": "ipython",
    "version": 2
   },
   "file_extension": ".py",
   "mimetype": "text/x-python",
   "name": "python",
   "nbconvert_exporter": "python",
   "pygments_lexer": "ipython2",
   "version": "2.7.6"
  }
 },
 "nbformat": 4,
 "nbformat_minor": 0
}
